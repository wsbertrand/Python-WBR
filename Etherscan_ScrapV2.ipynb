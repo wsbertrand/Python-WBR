{
 "cells": [
  {
   "cell_type": "code",
   "execution_count": 25,
   "metadata": {
    "collapsed": true
   },
   "outputs": [],
   "source": [
    "from urllib.request import Request, urlopen\n",
    "from bs4 import BeautifulSoup as soup\n",
    "import pandas as pd\n",
    "import time\n",
    "import telegram_send"
   ]
  },
  {
   "cell_type": "code",
   "execution_count": 26,
   "outputs": [],
   "source": [
    "headers = {'User-Agent': 'Mozilla/5.0 (X11; Linux x86_64) AppleWebKit/537.36 (KHTML, like Gecko) Chrome/47.0.2526.106 Safari/537.36'}\n",
    "\n",
    "#Luneal\n",
    "luneael ='https://etherscan.io/txs?a=0x8b3f4eb783270aefaac9238ac1d165a433c8fbf3&f=2'\n",
    "req_luneael = Request(luneael, headers= headers)\n",
    "\n",
    "#Luneael 2\n",
    "luneael2 ='https://etherscan.io/txs?a=0xb8659f9034fdb8608598f7295b6b82869c379510=2'\n",
    "req_luneael2 = Request(luneael2, headers= headers)\n",
    "\n",
    "#Wickd\n",
    "wickd ='https://etherscan.io/txs?a=0x820880c9040041d6a514e069ec0a2f37997325d4&f=2'\n",
    "req_wickd = Request(wickd, headers=headers)\n",
    "\n",
    "#Sneakyninjapants\n",
    "sneakyninjapants ='https://etherscan.io/txs?a=0xbdd95abe8a7694ccd77143376b0fbea183e6a740&f=2'\n",
    "req_sneakyninjapants = Request(sneakyninjapants, headers=headers)"
   ],
   "metadata": {
    "collapsed": false,
    "pycharm": {
     "name": "#%%\n"
    }
   }
  },
  {
   "cell_type": "code",
   "execution_count": 27,
   "outputs": [
    {
     "name": "stderr",
     "output_type": "stream",
     "text": [
      "/var/folders/d6/_6wp3vwx1cg1prk_b2khmx240000gn/T/ipykernel_61016/3407575292.py:42: FutureWarning: The default value of regex will change from True to False in a future version.\n",
      "  dfs['Value'] = dfs['Value'].str.replace(r'\\ Ether', '')\n",
      "/var/folders/d6/_6wp3vwx1cg1prk_b2khmx240000gn/T/ipykernel_61016/3407575292.py:43: FutureWarning: The default value of regex will change from True to False in a future version.\n",
      "  dfs['Time'] = dfs['Time'].str.replace(r'\\ ago', '')\n"
     ]
    },
    {
     "ename": "KeyboardInterrupt",
     "evalue": "",
     "output_type": "error",
     "traceback": [
      "\u001B[0;31m---------------------------------------------------------------------------\u001B[0m",
      "\u001B[0;31mKeyboardInterrupt\u001B[0m                         Traceback (most recent call last)",
      "\u001B[0;32m/var/folders/d6/_6wp3vwx1cg1prk_b2khmx240000gn/T/ipykernel_61016/3407575292.py\u001B[0m in \u001B[0;36m<module>\u001B[0;34m\u001B[0m\n\u001B[1;32m     76\u001B[0m \u001B[0;32mwhile\u001B[0m \u001B[0;32mTrue\u001B[0m\u001B[0;34m:\u001B[0m\u001B[0;34m\u001B[0m\u001B[0;34m\u001B[0m\u001B[0m\n\u001B[1;32m     77\u001B[0m     \u001B[0mscraper_etherscan\u001B[0m\u001B[0;34m(\u001B[0m\u001B[0;34m)\u001B[0m\u001B[0;34m\u001B[0m\u001B[0;34m\u001B[0m\u001B[0m\n\u001B[0;32m---> 78\u001B[0;31m     \u001B[0mtime\u001B[0m\u001B[0;34m.\u001B[0m\u001B[0msleep\u001B[0m\u001B[0;34m(\u001B[0m\u001B[0;36m10\u001B[0m\u001B[0;34m)\u001B[0m\u001B[0;34m\u001B[0m\u001B[0;34m\u001B[0m\u001B[0m\n\u001B[0m",
      "\u001B[0;31mKeyboardInterrupt\u001B[0m: "
     ]
    }
   ],
   "source": [
    "def scraper_etherscan ():\n",
    "    #Luneal\n",
    "    response_luneael = urlopen(req_luneael, timeout=20).read()\n",
    "    response_luneael_close = urlopen(req_luneael, timeout=20).close()\n",
    "    page_soup_luneael = soup(response_luneael, \"html.parser\")\n",
    "    Transfers_info_table_luneael = page_soup_luneael.find(\"table\", {\"class\": \"table table-hover\"})\n",
    "    luneael_data = pd.read_html(str(Transfers_info_table_luneael))[0]\n",
    "    df_luneael = pd.DataFrame(luneael_data)\n",
    "\n",
    "    #Luneal2\n",
    "    response_luneael2 = urlopen(req_luneael2, timeout=20).read()\n",
    "    response_luneael2_close = urlopen(req_luneael2, timeout=20).close()\n",
    "    page_soup_luneael2 = soup(response_luneael2, \"html.parser\")\n",
    "    Transfers_info_table_luneael2 = page_soup_luneael2.find(\"table\", {\"class\": \"table table-hover\"})\n",
    "    luneael2_data = pd.read_html(str(Transfers_info_table_luneael2))[0]\n",
    "    df_luneael2 = pd.DataFrame(luneael2_data)\n",
    "\n",
    "    #Wickd\n",
    "    response_wickd = urlopen(req_wickd, timeout=20).read()\n",
    "    response_wickd_close = urlopen(req_wickd, timeout=20).close()\n",
    "    page_soup_wickd = soup(response_wickd, \"html.parser\")\n",
    "    Transfers_info_table_wickd = page_soup_wickd.find(\"table\", {\"class\": \"table table-hover\"})\n",
    "    wickd_data = pd.read_html(str(Transfers_info_table_wickd))[0]\n",
    "    df_wickd = pd.DataFrame(wickd_data)\n",
    "\n",
    "    #sneakyninjapants\n",
    "    response_sneakyninjapants = urlopen(req_sneakyninjapants, timeout=20).read()\n",
    "    response_sneakyninjapants_close = urlopen(req_sneakyninjapants, timeout=20).close()\n",
    "    page_soup_sneakyninjapants = soup(response_sneakyninjapants, \"html.parser\")\n",
    "    Transfers_info_table_sneakyninjapants = page_soup_sneakyninjapants.find(\"table\", {\"class\": \"table table-hover\"})\n",
    "    sneakyninjapants_data = pd.read_html(str(Transfers_info_table_sneakyninjapants))[0]\n",
    "    df_sneakyninjapants = pd.DataFrame(sneakyninjapants_data)\n",
    "\n",
    "    conso = [df_luneael, df_luneael2, df_wickd, df_sneakyninjapants]\n",
    "\n",
    "    dfs = pd.concat(conso)\n",
    "\n",
    "    dfs.drop(['Unnamed: 0', 'Block','Unnamed: 10'], axis=1, inplace=True)\n",
    "    dfs.rename(columns={\"Method\": \"Nature\", \"Unnamed: 4\": \"Time\", \"Unnamed: 6\" : \"In/Out\",\"Unnamed: 9\": \"Gas fees\"}, inplace=True )\n",
    "\n",
    "    dfs[\"Nature\"] = dfs[\"Nature\"].str.lower()\n",
    "    dfs['Value'] = dfs['Value'].str.replace(r'\\ Ether', '')\n",
    "    dfs['Time'] = dfs['Time'].str.replace(r'\\ ago', '')\n",
    "\n",
    "    dfs['Hours'] = dfs['Time'].str[-15:-10]\n",
    "    dfs['Mins'] = dfs['Time'].str[-7:-4]\n",
    "    dfs['Hours'] = dfs['Hours'].str.extract('(\\d+)', expand=False)\n",
    "    dfs['Mins'] = dfs['Mins'].str.extract('(\\d+)', expand=False)\n",
    "    dfs['Hours'] = dfs['Hours'].fillna(0)\n",
    "    dfs[\"Hours\"] = pd.to_numeric(dfs[\"Hours\"], downcast=\"float\")\n",
    "    dfs[\"Mins\"] = pd.to_numeric(dfs[\"Mins\"], downcast=\"float\")\n",
    "\n",
    "\n",
    "    conditions = [\n",
    "        (dfs['Hours'] == 0) & (dfs['Mins']<=2),\n",
    "        (dfs['Nature'].str.contains(\"mint\").any())]\n",
    "\n",
    "    #time  = dfs.iloc[0,2]\n",
    "    #owner = dfs.iloc[0,[3]]\n",
    "    #destination = dfs.iloc[0,[5]]\n",
    "    #value = dfs.iloc[0,[6]]\n",
    "\n",
    "    last_transaction = dfs.iloc[0,[3,2,5,6]]\n",
    "\n",
    "    message = last_transaction.to_string()\n",
    "\n",
    "    #dfs.reset_index(inplace=True)\n",
    "    #dfs = dfs.to_json()\n",
    "\n",
    "    if conditions is True:\n",
    "        telegram_send.send(messages=[message])\n",
    "\n",
    "    else:\n",
    "        telegram_send.send(messages=[message])\n",
    "\n",
    "while True:\n",
    "    scraper_etherscan()\n",
    "    time.sleep(10)"
   ],
   "metadata": {
    "collapsed": false,
    "pycharm": {
     "name": "#%%\n"
    }
   }
  },
  {
   "cell_type": "code",
   "execution_count": null,
   "outputs": [],
   "source": [
    "#message = print(f'\"Who :\"{owner}\\n \"To :\" {destination}\\n \"Time :\"{time}\"ago\" \\n \"Value :\"{value}')"
   ],
   "metadata": {
    "collapsed": false,
    "pycharm": {
     "name": "#%%\n"
    }
   }
  }
 ],
 "metadata": {
  "kernelspec": {
   "display_name": "Python 3",
   "language": "python",
   "name": "python3"
  },
  "language_info": {
   "codemirror_mode": {
    "name": "ipython",
    "version": 2
   },
   "file_extension": ".py",
   "mimetype": "text/x-python",
   "name": "python",
   "nbconvert_exporter": "python",
   "pygments_lexer": "ipython2",
   "version": "2.7.6"
  }
 },
 "nbformat": 4,
 "nbformat_minor": 0
}