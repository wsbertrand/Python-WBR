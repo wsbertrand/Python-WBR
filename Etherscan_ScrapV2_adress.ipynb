{
 "cells": [
  {
   "cell_type": "code",
   "execution_count": 1,
   "metadata": {
    "collapsed": true
   },
   "outputs": [
    {
     "ename": "ModuleNotFoundError",
     "evalue": "No module named 'telegram_send'",
     "output_type": "error",
     "traceback": [
      "\u001B[1;31m---------------------------------------------------------------------------\u001B[0m",
      "\u001B[1;31mModuleNotFoundError\u001B[0m                       Traceback (most recent call last)",
      "\u001B[1;32m<ipython-input-1-a17e66934f02>\u001B[0m in \u001B[0;36m<module>\u001B[1;34m\u001B[0m\n\u001B[0;32m      4\u001B[0m \u001B[1;32mimport\u001B[0m \u001B[0mpandas\u001B[0m \u001B[1;32mas\u001B[0m \u001B[0mpd\u001B[0m\u001B[1;33m\u001B[0m\u001B[1;33m\u001B[0m\u001B[0m\n\u001B[0;32m      5\u001B[0m \u001B[1;32mimport\u001B[0m \u001B[0mtime\u001B[0m\u001B[1;33m\u001B[0m\u001B[1;33m\u001B[0m\u001B[0m\n\u001B[1;32m----> 6\u001B[1;33m \u001B[1;32mimport\u001B[0m \u001B[0mtelegram_send\u001B[0m\u001B[1;33m\u001B[0m\u001B[1;33m\u001B[0m\u001B[0m\n\u001B[0m",
      "\u001B[1;31mModuleNotFoundError\u001B[0m: No module named 'telegram_send'"
     ]
    }
   ],
   "source": [
    "from urllib.request import Request, urlopen\n",
    "from bs4 import BeautifulSoup\n",
    "import requests\n",
    "import pandas as pd\n",
    "import time\n",
    "import telegram_send"
   ]
  },
  {
   "cell_type": "code",
   "execution_count": null,
   "outputs": [],
   "source": [
    "headers = {'User-Agent': 'Mozilla/5.0 (X11; Linux x86_64) AppleWebKit/537.36 (KHTML, like Gecko) Chrome/47.0.2526.106 Safari/537.36'}\n",
    "urls = ['https://etherscan.io/txs?a=0x8b3f4eb783270aefaac9238ac1d165a433c8fbf3&f=2',\n",
    "       'https://etherscan.io/txs?a=0xb8659f9034fdb8608598f7295b6b82869c379510&f=2',\n",
    "       'https://etherscan.io/txs?a=0x820880c9040041d6a514e069ec0a2f37997325d4&f=2',\n",
    "       'https://etherscan.io/txs?a=0xbdd95abe8a7694ccd77143376b0fbea183e6a740&f=2',\n",
    "       'https://etherscan.io/txs?a=0xfdd50de023c9a705d9086bf821d15c7450ee93bf&f=2']\n",
    "\n"
   ],
   "metadata": {
    "collapsed": false,
    "pycharm": {
     "name": "#%%\n"
    }
   }
  },
  {
   "cell_type": "code",
   "execution_count": null,
   "outputs": [],
   "source": [
    "def etherscan_address_scraper():\n",
    "    dfs=[]\n",
    "    for url in urls:\n",
    "        res = requests.get(url, headers=headers)\n",
    "        soup = BeautifulSoup(res.content, 'lxml')\n",
    "        table = soup.find_all('table')[0]\n",
    "        df_list = pd.read_html(str(table))\n",
    "        df = pd.concat(df_list)  # this line is what you're missing\n",
    "        dfs.append(df)\n",
    "\n",
    "    final_df = pd.concat(dfs)\n",
    "\n",
    "    final_df.drop(['Unnamed: 0', 'Block'], axis=1, inplace=True)\n",
    "    final_df.rename(columns={\"Method\": \"Nature\", \"Unnamed: 4\": \"Time\", \"Unnamed: 6\" : \"In/Out\",\"Unnamed: 9\": \"Gas fees\"}, inplace=True )\n",
    "\n",
    "    final_df[\"Nature\"] = final_df[\"Nature\"].str.lower()\n",
    "    final_df['Time'] = final_df['Time'].str.replace(r'\\ ago', '')\n",
    "\n",
    "    final_df['Hours'] = final_df['Time'].str[-15:-10]\n",
    "    final_df['Mins'] = final_df['Time'].str[-7:-4]\n",
    "    final_df['Hours'] = final_df['Hours'].str.extract('(\\d+)', expand=False)\n",
    "    final_df['Mins'] = final_df['Mins'].str.extract('(\\d+)', expand=False)\n",
    "    final_df['Hours'] = final_df['Hours'].fillna(0)\n",
    "    final_df[\"Hours\"] = pd.to_numeric(final_df[\"Hours\"], downcast=\"float\")\n",
    "    final_df[\"Mins\"] = pd.to_numeric(final_df[\"Mins\"], downcast=\"float\")\n",
    "\n",
    "    conditions = [\n",
    "        (final_df['Hours'] == 0) & (final_df['Mins']<=1),\n",
    "        (final_df['Nature'].str.contains(\"mint\").any())]\n",
    "\n",
    "    last_transaction = final_df.iloc[0,[3,2,5,6]]\n",
    "\n",
    "    message = last_transaction.to_string()\n",
    "\n",
    "    if conditions is True:\n",
    "        telegram_send.send(messages=[message])\n",
    "\n",
    "    else:\n",
    "        print(message)\n",
    "\n",
    "while True:\n",
    "    etherscan_address_scraper()\n",
    "    time.sleep(30)"
   ],
   "metadata": {
    "collapsed": false,
    "pycharm": {
     "name": "#%%\n"
    }
   }
  }
 ],
 "metadata": {
  "kernelspec": {
   "display_name": "Python 3",
   "language": "python",
   "name": "python3"
  },
  "language_info": {
   "codemirror_mode": {
    "name": "ipython",
    "version": 2
   },
   "file_extension": ".py",
   "mimetype": "text/x-python",
   "name": "python",
   "nbconvert_exporter": "python",
   "pygments_lexer": "ipython2",
   "version": "2.7.6"
  }
 },
 "nbformat": 4,
 "nbformat_minor": 0
}